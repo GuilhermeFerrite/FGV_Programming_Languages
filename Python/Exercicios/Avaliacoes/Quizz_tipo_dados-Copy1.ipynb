{
 "cells": [
  {
   "cell_type": "markdown",
   "metadata": {},
   "source": [
    "1 - Quais são as estruturas de dados primitivas mais comuns na linguagem Python? Exemplifique criando variáveis de cada uma destas estruturas."
   ]
  },
  {
   "cell_type": "code",
   "execution_count": 3,
   "metadata": {},
   "outputs": [],
   "source": [
    "numero=2\n",
    "floati=2.1\n",
    "string='ola'\n",
    "lista=[4, 6, 7, 'stir']\n",
    "conjunto={1,2,3,4}\n",
    "tuplas=(1,2,3,4)\n",
    "dicionário={'chave':2, 'chave2':87}"
   ]
  },
  {
   "cell_type": "markdown",
   "metadata": {},
   "source": [
    "2 - Dê pelo menos 5 exemplos de conversões entre tipos de dados, utilizando as variáveis criadas na questão anterior  "
   ]
  },
  {
   "cell_type": "code",
   "execution_count": 4,
   "metadata": {},
   "outputs": [
    {
     "data": {
      "text/plain": [
       "'2'"
      ]
     },
     "execution_count": 4,
     "metadata": {},
     "output_type": "execute_result"
    }
   ],
   "source": [
    "str(numero)"
   ]
  },
  {
   "cell_type": "code",
   "execution_count": 7,
   "metadata": {},
   "outputs": [
    {
     "data": {
      "text/plain": [
       "['o', 'l', 'a']"
      ]
     },
     "execution_count": 7,
     "metadata": {},
     "output_type": "execute_result"
    }
   ],
   "source": [
    "list(string)"
   ]
  },
  {
   "cell_type": "code",
   "execution_count": 6,
   "metadata": {},
   "outputs": [
    {
     "data": {
      "text/plain": [
       "2"
      ]
     },
     "execution_count": 6,
     "metadata": {},
     "output_type": "execute_result"
    }
   ],
   "source": [
    "int(floati)"
   ]
  },
  {
   "cell_type": "code",
   "execution_count": 8,
   "metadata": {},
   "outputs": [
    {
     "data": {
      "text/plain": [
       "2.0"
      ]
     },
     "execution_count": 8,
     "metadata": {},
     "output_type": "execute_result"
    }
   ],
   "source": [
    "float(numero)"
   ]
  },
  {
   "cell_type": "code",
   "execution_count": 9,
   "metadata": {},
   "outputs": [
    {
     "data": {
      "text/plain": [
       "{4, 6, 7, 'stir'}"
      ]
     },
     "execution_count": 9,
     "metadata": {},
     "output_type": "execute_result"
    }
   ],
   "source": [
    "set(lista)"
   ]
  },
  {
   "cell_type": "markdown",
   "metadata": {},
   "source": [
    "3- Exemplifique o uso de algumas primitivas, de forma isolada ou combinada, para criar as seguintes estruturas de dados:  \n",
    "\n",
    "+ Um registro médico\n",
    "+ Uma matriz de pixels em formato RGB\n",
    "+ Um conjunto de coordenadas geográficas representando a sede da prefeitura e do corpo de bombeiros em 4 cidades diferentes"
   ]
  },
  {
   "cell_type": "code",
   "execution_count": 10,
   "metadata": {},
   "outputs": [],
   "source": [
    "registro={'paciente':'Paulo', 'medicamento':'Vertex', 'consulta':'17/08/2018'}"
   ]
  },
  {
   "cell_type": "code",
   "execution_count": 12,
   "metadata": {},
   "outputs": [],
   "source": [
    "matrizlista=[[255, 87, 18], [1,3,76], [56,98,45]]"
   ]
  },
  {
   "cell_type": "code",
   "execution_count": 17,
   "metadata": {},
   "outputs": [],
   "source": [
    "Coordenadas={'Cidade1':{'prefeitura':'coordenada','bombeiros':'cordenada2' },\n",
    "             'Cidade2':{'prefeitura':'coordenada','bombeiros':'cordenada2' },\n",
    "             'Cidade3':{'prefeitura':'coordenada','bombeiros':'cordenada2' },\n",
    "             'Cidade4':{'prefeitura':'coordenada','bombeiros':'cordenada2' }}"
   ]
  },
  {
   "cell_type": "markdown",
   "metadata": {},
   "source": [
    "4- Exemplifique o acesso aos elementos de informação das estruturas criadas na questão anterior."
   ]
  },
  {
   "cell_type": "code",
   "execution_count": 18,
   "metadata": {},
   "outputs": [
    {
     "data": {
      "text/plain": [
       "'Paulo'"
      ]
     },
     "execution_count": 18,
     "metadata": {},
     "output_type": "execute_result"
    }
   ],
   "source": [
    "registro['paciente']\n"
   ]
  },
  {
   "cell_type": "code",
   "execution_count": 19,
   "metadata": {},
   "outputs": [
    {
     "data": {
      "text/plain": [
       "'coordenada'"
      ]
     },
     "execution_count": 19,
     "metadata": {},
     "output_type": "execute_result"
    }
   ],
   "source": [
    "Coordenadas['Cidade2']['prefeitura']"
   ]
  },
  {
   "cell_type": "code",
   "execution_count": 20,
   "metadata": {},
   "outputs": [
    {
     "data": {
      "text/plain": [
       "'stir'"
      ]
     },
     "execution_count": 20,
     "metadata": {},
     "output_type": "execute_result"
    }
   ],
   "source": [
    "lista[-1]"
   ]
  },
  {
   "cell_type": "markdown",
   "metadata": {},
   "source": [
    "5- Explique o que são, exemplifique, e mostre algumas características de:  \n",
    "\n",
    "+ Tipos mutáveis e tipos imutáveis  \n",
    "+ Tipos \"container\"\n",
    "+ Tipos sequenciais\n"
   ]
  },
  {
   "cell_type": "code",
   "execution_count": 25,
   "metadata": {},
   "outputs": [
    {
     "data": {
      "text/plain": [
       "[1, 2, 3, 5, 4]"
      ]
     },
     "execution_count": 25,
     "metadata": {},
     "output_type": "execute_result"
    }
   ],
   "source": [
    "#Tipos mutáveis: são permitidas alterações nos dados\n",
    "#Tipos imutáveis: não são permitidas alterações\n",
    "\n",
    "listaex=[1,2,3,4]\n",
    "listaex.insert(-1,5)\n",
    "listaex"
   ]
  },
  {
   "cell_type": "code",
   "execution_count": 27,
   "metadata": {},
   "outputs": [
    {
     "data": {
      "text/plain": [
       "['string', 2, 4, 5, ['outra lista']]"
      ]
     },
     "execution_count": 27,
     "metadata": {},
     "output_type": "execute_result"
    }
   ],
   "source": [
    "#Tipos que podem conter outros tipos dentro deles mesmos. Listas, dicionários, conjuntos.\n",
    "\n",
    "lista=['string', 2, 4, 5, ['outra lista']]\n",
    "lista\n"
   ]
  },
  {
   "cell_type": "code",
   "execution_count": null,
   "metadata": {
    "collapsed": true
   },
   "outputs": [],
   "source": [
    "#Tipos que possuem ordem. Conjuntos não são sequenciais, enquanto que as listas são."
   ]
  },
  {
   "cell_type": "markdown",
   "metadata": {},
   "source": [
    "6- Exemplifique chamadas de métodos em variáveis associadas a tipos de dados que:  \n",
    "+ Não modifiquem a variável e não retornem valores à chamada do método \n",
    "+ Modifiquem a variável mas não retornem valores à chamada do método\n",
    "+ Não modifiquem a variável mas retornem valores à chamada do método\n",
    "+ Modifiquem a variável e retornem valores à chamada do método  "
   ]
  },
  {
   "cell_type": "code",
   "execution_count": 8,
   "metadata": {},
   "outputs": [
    {
     "name": "stdout",
     "output_type": "stream",
     "text": [
      "\n"
     ]
    }
   ],
   "source": [
    "print()\n"
   ]
  },
  {
   "cell_type": "code",
   "execution_count": 4,
   "metadata": {},
   "outputs": [
    {
     "data": {
      "text/plain": [
       "[3, 5, 0, 0]"
      ]
     },
     "execution_count": 4,
     "metadata": {},
     "output_type": "execute_result"
    }
   ],
   "source": [
    "lista=[0,0,5,3]\n",
    "lista.reverse()\n",
    "lista"
   ]
  },
  {
   "cell_type": "code",
   "execution_count": null,
   "metadata": {
    "collapsed": true
   },
   "outputs": [],
   "source": [
    "x='string4'\n",
    "x.isalpha()"
   ]
  },
  {
   "cell_type": "code",
   "execution_count": 7,
   "metadata": {},
   "outputs": [
    {
     "data": {
      "text/plain": [
       "4"
      ]
     },
     "execution_count": 7,
     "metadata": {},
     "output_type": "execute_result"
    }
   ],
   "source": [
    "lista=[6,6,7,8,9,45,3,4]\n",
    "xx=lista.pop()\n",
    "xx"
   ]
  },
  {
   "cell_type": "markdown",
   "metadata": {},
   "source": [
    "7- Exemplifique o uso de métodos para:  \n",
    "+ Testar se uma string pode ser convertida para um inteiro  \n",
    "+ Testar se um conjunto é subconjunto de outro\n",
    "+ Concatenar duas listas\n",
    "+ Contar as ocorrências de um elemento em uma lista"
   ]
  },
  {
   "cell_type": "code",
   "execution_count": 30,
   "metadata": {},
   "outputs": [
    {
     "data": {
      "text/plain": [
       "True"
      ]
     },
     "execution_count": 30,
     "metadata": {},
     "output_type": "execute_result"
    }
   ],
   "source": [
    "string='teste'\n",
    "string.isalpha()\n",
    "#se retornar 'true', não posso fazer a conversão, dado que meu tipo não possui numeros inteiros"
   ]
  },
  {
   "cell_type": "code",
   "execution_count": 34,
   "metadata": {},
   "outputs": [
    {
     "data": {
      "text/plain": [
       "True"
      ]
     },
     "execution_count": 34,
     "metadata": {},
     "output_type": "execute_result"
    }
   ],
   "source": [
    "conjuntinho1={1, 2,46,5,7657,6,7}\n",
    "subconjuntinho1={1,2}\n",
    "subconjuntinho1.issubset(conjuntinho1)\n"
   ]
  },
  {
   "cell_type": "code",
   "execution_count": 33,
   "metadata": {},
   "outputs": [
    {
     "data": {
      "text/plain": [
       "[1, 2, 3, 4, 5, 6]"
      ]
     },
     "execution_count": 33,
     "metadata": {},
     "output_type": "execute_result"
    }
   ],
   "source": [
    "#concatenar listas\n",
    "lista1=[1,2,3]\n",
    "lista2=[4,5,6]\n",
    "lista1.extend(lista2)\n",
    "lista1\n"
   ]
  },
  {
   "cell_type": "code",
   "execution_count": 40,
   "metadata": {},
   "outputs": [
    {
     "data": {
      "text/plain": [
       "13"
      ]
     },
     "execution_count": 40,
     "metadata": {},
     "output_type": "execute_result"
    }
   ],
   "source": [
    "lista=[1,2,4,4,4,4,4,4,44,4,4,4,4,4,4,4]\n",
    "lista.count(4)\n"
   ]
  },
  {
   "cell_type": "markdown",
   "metadata": {},
   "source": [
    "Deescreva, em linhas gerais, o que é uma linguagem de programação, e para que serve.  "
   ]
  },
  {
   "cell_type": "code",
   "execution_count": 9,
   "metadata": {},
   "outputs": [
    {
     "name": "stdout",
     "output_type": "stream",
     "text": [
      "Conglomerado de tipos de dados, comandos e funções. Serve para realizar tarefas computacionais.\n",
      "The Zen of Python, by Tim Peters\n",
      "\n",
      "Beautiful is better than ugly.\n",
      "Explicit is better than implicit.\n",
      "Simple is better than complex.\n",
      "Complex is better than complicated.\n",
      "Flat is better than nested.\n",
      "Sparse is better than dense.\n",
      "Readability counts.\n",
      "Special cases aren't special enough to break the rules.\n",
      "Although practicality beats purity.\n",
      "Errors should never pass silently.\n",
      "Unless explicitly silenced.\n",
      "In the face of ambiguity, refuse the temptation to guess.\n",
      "There should be one-- and preferably only one --obvious way to do it.\n",
      "Although that way may not be obvious at first unless you're Dutch.\n",
      "Now is better than never.\n",
      "Although never is often better than *right* now.\n",
      "If the implementation is hard to explain, it's a bad idea.\n",
      "If the implementation is easy to explain, it may be a good idea.\n",
      "Namespaces are one honking great idea -- let's do more of those!\n"
     ]
    }
   ],
   "source": [
    "print('Conglomerado de tipos de dados, comandos e funções. Serve para realizar tarefas computacionais.')\n",
    "import this"
   ]
  },
  {
   "cell_type": "markdown",
   "metadata": {},
   "source": [
    "Feedback: o que você está achando do curso até agora?  "
   ]
  },
  {
   "cell_type": "markdown",
   "metadata": {},
   "source": []
  }
 ],
 "metadata": {
  "kernelspec": {
   "display_name": "Python 3",
   "language": "python",
   "name": "python3"
  },
  "language_info": {
   "codemirror_mode": {
    "name": "ipython",
    "version": 3
   },
   "file_extension": ".py",
   "mimetype": "text/x-python",
   "name": "python",
   "nbconvert_exporter": "python",
   "pygments_lexer": "ipython3",
   "version": "3.5.2"
  }
 },
 "nbformat": 4,
 "nbformat_minor": 2
}
