{
 "cells": [
  {
   "cell_type": "markdown",
   "metadata": {},
   "source": [
    "texto"
   ]
  },
  {
   "cell_type": "markdown",
   "metadata": {},
   "source": [
    "Fiz umas mudanças\n",
    "\n",
    "Abri o terminal\n",
    "\n",
    "cd F+tab\n",
    "\n",
    "git status\n",
    "\n",
    "git add + oq eu qro adicionar\n",
    "\n",
    "git commit -m \"O que eu qro alterar\"\n",
    "\n",
    "git push (isso aq salva os bang na nuvem)\n",
    "\n",
    "colacar user do github \n",
    "\n",
    "colacar senha\n",
    "\n",
    "\n",
    "\n",
    "FIM\n",
    "\n",
    "Ser feliz e estudar mais :)\n",
    "\n",
    "Apertar shift + enter\n"
   ]
  },
  {
   "cell_type": "code",
   "execution_count": null,
   "metadata": {},
   "outputs": [],
   "source": []
  }
 ],
 "metadata": {
  "kernelspec": {
   "display_name": "Python 3",
   "language": "python",
   "name": "python3"
  },
  "language_info": {
   "codemirror_mode": {
    "name": "ipython",
    "version": 3
   },
   "file_extension": ".py",
   "mimetype": "text/x-python",
   "name": "python",
   "nbconvert_exporter": "python",
   "pygments_lexer": "ipython3",
   "version": "3.5.2"
  }
 },
 "nbformat": 4,
 "nbformat_minor": 2
}
